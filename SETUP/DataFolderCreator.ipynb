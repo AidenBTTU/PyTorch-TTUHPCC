{
 "cells": [
  {
   "cell_type": "code",
   "execution_count": null,
   "id": "1f91a52d-8c52-4867-b761-fd81bac491f2",
   "metadata": {},
   "outputs": [],
   "source": [
    "from dataloader2 import read_file\n",
    "\n",
    "dataset = 'JetClass_pythia_train_100M_part0.tar' #Modify this depending on which segment you grabbed\n",
    "_, _, _ = read_file(dataset) #We dont care about the outputs yet, we are using a seperate utility of this function\n",
    "\n",
    "\n"
   ]
  }
 ],
 "metadata": {
  "kernelspec": {
   "display_name": "Python 3 (ipykernel)",
   "language": "python",
   "name": "python3"
  },
  "language_info": {
   "codemirror_mode": {
    "name": "ipython",
    "version": 3
   },
   "file_extension": ".py",
   "mimetype": "text/x-python",
   "name": "python",
   "nbconvert_exporter": "python",
   "pygments_lexer": "ipython3",
   "version": "3.12.4"
  }
 },
 "nbformat": 4,
 "nbformat_minor": 5
}
